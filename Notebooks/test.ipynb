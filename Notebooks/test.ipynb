{
 "cells": [
  {
   "cell_type": "code",
   "execution_count": null,
   "metadata": {},
   "outputs": [],
   "source": [
    "import scanpy as sc\n",
    "import torch\n",
    "\n",
    "from SHARE_topic import SHARE_topic"
   ]
  },
  {
   "cell_type": "code",
   "execution_count": null,
   "metadata": {},
   "outputs": [],
   "source": [
    "if torch.cuda.is_available():\n",
    "    device='cuda'\n",
    "else:\n",
    "    device='cpu'\n",
    "print(f'Running on: {device}')"
   ]
  },
  {
   "cell_type": "code",
   "execution_count": null,
   "metadata": {},
   "outputs": [],
   "source": [
    "rna = sc.read_h5ad('../B_lymphoma_Example/rna_B_lympho.h5ad')\n",
    "atac =sc.read_h5ad('../B_lymphoma_Example/atac_B_lympho.h5ad')\n",
    "gamma=1\n",
    "tau=0.5\n",
    "n_topics=5\n",
    "n_samples=20\n",
    "n_burnin=1\n",
    "batch_size=500\n",
    "alpha=50/n_topics\n",
    "beta=0.1\n"
   ]
  },
  {
   "cell_type": "code",
   "execution_count": null,
   "metadata": {},
   "outputs": [],
   "source": [
    "st_obj = SHARE_topic(rna,atac,n_topics,alpha,beta,gamma,tau)\n",
    "theta, lam, phi= st_obj.fit(batch_size,n_samples,n_burnin,dev= device,save_data=False,path=\"\")"
   ]
  }
 ],
 "metadata": {
  "kernelspec": {
   "display_name": "base",
   "language": "python",
   "name": "python3"
  },
  "language_info": {
   "codemirror_mode": {
    "name": "ipython",
    "version": 3
   },
   "file_extension": ".py",
   "mimetype": "text/x-python",
   "name": "python",
   "nbconvert_exporter": "python",
   "pygments_lexer": "ipython3",
   "version": "3.12.2"
  }
 },
 "nbformat": 4,
 "nbformat_minor": 2
}
