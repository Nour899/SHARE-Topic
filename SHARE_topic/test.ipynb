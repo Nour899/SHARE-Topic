{
 "cells": [
  {
   "cell_type": "code",
   "execution_count": 1,
   "metadata": {},
   "outputs": [],
   "source": [
    "import share_topic as st\n",
    "import scanpy as sc"
   ]
  },
  {
   "cell_type": "code",
   "execution_count": 2,
   "metadata": {},
   "outputs": [],
   "source": [
    "rna =sc.read_h5ad('/data/nelkazwi/share-topic/lymphoma_data/rna_B_lympho.h5ad')\n",
    "atac =sc.read_h5ad(\"/data/nelkazwi/share-topic/lymphoma_data/atac_B_lympho.h5ad\")\n",
    "gamma=1\n",
    "tau=0.5\n",
    "n_topics=5\n",
    "n_samples=20\n",
    "n_burnin=1\n",
    "batch_size=500\n",
    "alpha=50/n_topics\n",
    "beta=0.1"
   ]
  },
  {
   "cell_type": "code",
   "execution_count": 4,
   "metadata": {},
   "outputs": [
    {
     "name": "stderr",
     "output_type": "stream",
     "text": [
      "Processing: 100%|██████████| 20/20 [01:51<00:00,  5.59s/it]\n"
     ]
    }
   ],
   "source": [
    "st_obj = st.SHARE_topic(rna,atac,n_topics,alpha,beta,gamma,tau)\n",
    "theta, lam, phi= st_obj.SHARE_Topic(batch_size,n_samples,n_burnin,dev= \"cuda:0\",save_data=False,path=\"\")"
   ]
  },
  {
   "cell_type": "code",
   "execution_count": null,
   "metadata": {},
   "outputs": [],
   "source": []
  }
 ],
 "metadata": {
  "kernelspec": {
   "display_name": "base",
   "language": "python",
   "name": "python3"
  },
  "language_info": {
   "codemirror_mode": {
    "name": "ipython",
    "version": 3
   },
   "file_extension": ".py",
   "mimetype": "text/x-python",
   "name": "python",
   "nbconvert_exporter": "python",
   "pygments_lexer": "ipython3",
   "version": "3.12.2"
  }
 },
 "nbformat": 4,
 "nbformat_minor": 2
}
