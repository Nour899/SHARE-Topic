{
 "cells": [
  {
   "cell_type": "code",
   "execution_count": 2,
   "id": "d225752a",
   "metadata": {},
   "outputs": [],
   "source": [
    "import torch\n",
    "topic=10\n",
    "data_RNA=torch.load(\"/data/nelkazwi/lymphoma_data/rna_lymphoma.txt\")\n",
    "dev = \"cuda:0\"\n",
    "device = torch.device(dev)\n",
    "\n",
    "theta=torch.load(\"/scratch/nelkazwi/lymphoma_data/\"+str(topic)+\"_topics/theta_\"+str(topic)+\".txt\")\n",
    "lam=torch.load(\"/scratch/nelkazwi/lymphoma_data/\"+str(topic)+\"_topics/lam_\"+str(topic)+\".txt\")\n",
    "\n",
    "\n",
    "theta=theta[50:,:,:]\n",
    "lam=lam[50:,:,:]\n",
    "\n",
    "def WAIC_g (lam_,theta_,data_RNA_,c_):\n",
    "    N=lam_.shape[0]\n",
    "    T=lam_.shape[1]\n",
    "    G=lam_.shape[2]\n",
    "    C=theta_.shape[1]\n",
    "    \n",
    "    L=torch.zeros([C,G],dtype=torch.double,device=device)\n",
    "    V=torch.zeros([C,G],device=device)\n",
    "    V_2=torch.zeros([C,G],device=device)\n",
    "    \n",
    "    for n in torch.arange(0,N):\n",
    "     theta_tmp=theta_[n,:,:].to(device)\n",
    "     lam_tmp=lam_[n,:,:].to(device)\n",
    "     theta_tmp=theta_tmp.type(torch.cuda.DoubleTensor)\n",
    "     lam_tmp=lam_tmp.type(torch.cuda.DoubleTensor)\n",
    "     for i in torch.arange(1,c_.shape[0]): \n",
    "           data_RNA_1=data_RNA_[c_[i-1]:c_[i],:].to(device)\n",
    "           m=torch.distributions.poisson.Poisson(lam_tmp.reshape([T,1,G]))\n",
    "           z_=torch.mul(torch.exp(m.log_prob(data_RNA_1)),(theta_tmp[c_[i-1]:c_[i],:].T)[:,:,None])\n",
    "\n",
    "           \n",
    "           z_=torch.sum(z_,axis=0)\n",
    "           L[c_[i-1]:c_[i],:]+=z_\n",
    "           \n",
    "           V[c_[i-1]:c_[i],:]+=torch.pow(torch.log(z_),2)\n",
    "           \n",
    "           V_2[c_[i-1]:c_[i],:]+=torch.log(z_)\n",
    "   \n",
    "    WAIC=-2*(torch.sum(torch.log(L/N))-(torch.sum(V)-torch.sum(torch.pow(V_2,2)/N))/(N-1))\n",
    "    return WAIC\n",
    "\n",
    "\n",
    "\n",
    "n_cells=theta.shape[1]\n",
    "batch_size=500\n",
    "n_batches=n_cells+batch_size-(n_cells%batch_size)\n",
    "c=torch.arange(0,n_batches,batch_size)\n",
    "c=torch.hstack((c,torch.tensor(n_cells)))\n",
    "c=c.to(device)\n",
    "L_g=WAIC_g (lam,theta,data_RNA,c)\n",
    "torch.save(L_g,\"/scratch/nelkazwi/lymphoma_data/\"+str(topic)+\"_topics/WAIC_g\"+str(topic)+\".txt\")"
   ]
  },
  {
   "cell_type": "code",
   "execution_count": null,
   "id": "5382a3da",
   "metadata": {},
   "outputs": [],
   "source": []
  }
 ],
 "metadata": {
  "kernelspec": {
   "display_name": "Python 3 (ipykernel)",
   "language": "python",
   "name": "python3"
  },
  "language_info": {
   "codemirror_mode": {
    "name": "ipython",
    "version": 3
   },
   "file_extension": ".py",
   "mimetype": "text/x-python",
   "name": "python",
   "nbconvert_exporter": "python",
   "pygments_lexer": "ipython3",
   "version": "3.9.12"
  }
 },
 "nbformat": 4,
 "nbformat_minor": 5
}
